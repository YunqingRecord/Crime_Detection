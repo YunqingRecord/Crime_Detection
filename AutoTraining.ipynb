{
 "cells": [
  {
   "cell_type": "code",
   "execution_count": 1,
   "metadata": {},
   "outputs": [
    {
     "name": "stderr",
     "output_type": "stream",
     "text": [
      "Using TensorFlow backend.\n"
     ]
    }
   ],
   "source": [
    "import IPython\n",
    "import pandas as pd\n",
    "import keras\n",
    "import itertools\n",
    "import numpy as np\n",
    "import matplotlib.pyplot as plt\n",
    "import ModelStorage\n",
    "\n",
    "from keras.models import Sequential\n",
    "from keras.layers import Dense, Flatten, Dropout, TimeDistributed, Activation\n",
    "from keras.layers import LSTM\n",
    "from sklearn.model_selection import train_test_split\n",
    "from sklearn.metrics import confusion_matrix\n",
    "from kerasify import export_model\n",
    "from keras.models import model_from_json\n",
    "import os"
   ]
  },
  {
   "cell_type": "code",
   "execution_count": 2,
   "metadata": {},
   "outputs": [],
   "source": [
    "def RunNetwork(epo,dropout,networknum,class_name,Xvector,valpercent,timestep,iteration,dataInfo):\n",
    "    timesteps = timestep\n",
    "    ## POSE - val_acc: 98%\n",
    "    epochs = epo\n",
    "    batch_size = 32\n",
    "    _dropout = dropout\n",
    "    _activation = 'relu'\n",
    "    _optimizer = 'Adam'\n",
    "    class_names = class_name  # 4 classes\n",
    "    X_vector_dim = Xvector  # number of features or columns (pose)\n",
    "    samples_path = \"data20.txt\"  # 311 files with 10 frames' human-pose estimation keypoints(10*18)\n",
    "    labels_path = \"label.txt\"  # 311 files' labels, 3 classes in total\n",
    "    if os.path.isdir(str(iteration)) == True:\n",
    "        pass\n",
    "    else:\n",
    "        os.makedirs(str(iteration))\n",
    "    model_path = str(iteration)+'/20190419_class2_frame20.model'\n",
    "    json_model_path = str(iteration)+'/20190419_class2_frame20.json'\n",
    "    model_weights_path = str(iteration)+'/20190419_class2_frame20.h5'\n",
    "\n",
    "    X = np.loadtxt(samples_path, dtype=\"float\")\n",
    "    y = np.loadtxt(labels_path)\n",
    "\n",
    "    def samples_to_3D_array(_vector_dim, _vectors_per_sample, _X):\n",
    "        X_len = len(_X)\n",
    "        result_array = []\n",
    "        for sample in range(0, X_len):  # should be the 311 samples?\n",
    "            sample_array = []\n",
    "            for vector_idx in range(0, _vectors_per_sample):\n",
    "                start = vector_idx * _vector_dim\n",
    "                end = start + _vector_dim\n",
    "                sample_array.append(_X[sample][start:end])\n",
    "            result_array.append(sample_array)\n",
    "        return np.asarray(result_array)\n",
    "\n",
    "    X_vectors_per_sample = timesteps  # number of vectors per sample , 5 samples\n",
    "    X_3D = samples_to_3D_array(X_vector_dim, X_vectors_per_sample, X)\n",
    "\n",
    "    def convert_y_to_one_hot(_y):  # one hot encoding simply means : red --> 0 , green --> 1 , blue --> 2\n",
    "        _y = np.asarray(_y, dtype=int)\n",
    "        b = np.zeros((_y.size, _y.max() + 1))\n",
    "        b[np.arange(_y.size), _y] = 1\n",
    "        return b\n",
    "\n",
    "    y_one_hot = convert_y_to_one_hot(y)\n",
    "    y_vector_dim = y_one_hot.shape[1]\n",
    "\n",
    "    X_train, X_test, y_train, y_test = train_test_split(X_3D, y_one_hot, test_size=valpercent, random_state=42)\n",
    "    input_shape = (X_train.shape[1], X_train.shape[2])\n",
    "\n",
    "    #model = Sequential()\n",
    "    #model.add(TimeDistributed(Dense(X_vector_dim, activation=_activation), input_shape=input_shape))\n",
    "    #model.add(Dropout(_dropout))\n",
    "    #model.add(TimeDistributed(Dense(X_vector_dim * 2, activation=_activation)))  # (5, 80)\n",
    "    #model.add(Dropout(_dropout))\n",
    "    #model.add(TimeDistributed(Dense(X_vector_dim, activation=_activation)))  # (5, 40)\n",
    "    #model.add(Dropout(_dropout))\n",
    "    #model.add(TimeDistributed(Dense(int(X_vector_dim / 2), activation=_activation)))  # (5, 20)\n",
    "    #model.add(Dropout(_dropout))\n",
    "    #model.add(TimeDistributed(Dense(int(X_vector_dim / 4), activation=_activation)))  # (5, 10)\n",
    "    #model.add(Dropout(_dropout))\n",
    "    #model.add(LSTM(int(X_vector_dim / 4), dropout=_dropout, recurrent_dropout=_dropout))\n",
    "    #model.add(Dense(y_vector_dim, activation='softmax'))\n",
    "    #NetworkInfo='*2_*1_/2_/4'\n",
    "    model,NetworkInfo=ModelStorage.GetModel(networknum,_dropout,X_vector_dim,_activation,input_shape,y_vector_dim)\n",
    "    model.compile(loss='categorical_crossentropy', optimizer=_optimizer, metrics=['accuracy'])\n",
    "\n",
    "    class TrainingVisualizer(keras.callbacks.History):\n",
    "        def on_epoch_end(self, epoch, logs={}):\n",
    "            super(TrainingVisualizer, self).on_epoch_end(epoch, logs)\n",
    "            IPython.display.clear_output(wait=True)\n",
    "        #生成TrainingVisualizer图片\n",
    "            if epoch == epochs - 1: \n",
    "                axes = pd.DataFrame(self.history).plot()\n",
    "                axes.axvline(x=max((val_acc, i) for i, val_acc in enumerate(self.history['val_acc']))[1])\n",
    "      \n",
    "\n",
    "    print('Training...')\n",
    "    model.fit(X_train, y_train,\n",
    "              batch_size=batch_size,\n",
    "              epochs=epochs,\n",
    "              validation_data=(X_test, y_test),\n",
    "              callbacks=[TrainingVisualizer()])\n",
    "\n",
    "    score, accuracy = model.evaluate(X_test, y_test,\n",
    "                                     batch_size=batch_size)\n",
    "    \n",
    "        \n",
    "    doc = open('result.txt', 'a')\n",
    "    print(iteration,file=doc)\n",
    "    print('Test score: {:.3}'.format(score), file=doc)\n",
    "    print('Test accuracy: {:.3}'.format(accuracy), file=doc)\n",
    "    doc.close()\n",
    "\n",
    "    y_pred = model.predict(X_test)\n",
    "\n",
    "    def plot_confusion_matrix(cm, classes,\n",
    "                              normalize=False,\n",
    "                              title='Confusion matrix',\n",
    "                              cmap=plt.cm.Blues):\n",
    "\n",
    "        if normalize:\n",
    "            cm = cm.astype('float') / cm.sum(axis=1)[:, np.newaxis]\n",
    "            print(\"Normalized confusion matrix\")\n",
    "        else:\n",
    "            print('Confusion matrix, without normalization')\n",
    "\n",
    "        print(cm)\n",
    "\n",
    "        plt.imshow(cm, interpolation='nearest', cmap=cmap)\n",
    "        plt.title(title)\n",
    "        plt.colorbar()\n",
    "        tick_marks = np.arange(len(classes))\n",
    "        plt.xticks(tick_marks, classes, rotation=45)\n",
    "        plt.yticks(tick_marks, classes)\n",
    "\n",
    "        fmt = '.2f' if normalize else 'd'\n",
    "        thresh = cm.max() / 2.\n",
    "        for i, j in itertools.product(range(cm.shape[0]), range(cm.shape[1])):\n",
    "            plt.text(j, i, format(cm[i, j], fmt),\n",
    "                     horizontalalignment=\"center\",\n",
    "                     color=\"white\" if cm[i, j] > thresh else \"black\")\n",
    "\n",
    "        plt.tight_layout()\n",
    "        plt.ylabel('True label')\n",
    "        plt.xlabel('Predicted label')\n",
    "        if os.path.isdir(\"graph/Confusion_Matrix\") == True:\n",
    "            pass\n",
    "        else:\n",
    "            os.makedirs(\"graph/Confusion_Matrix\")\n",
    "        plt.savefig('graph/Confusion_Matrix/CM_'+str(iteration))\n",
    "        plt.close()\n",
    "\n",
    "    # Compute confusion matrix\n",
    "    cnf_matrix = confusion_matrix(np.argmax(y_test, axis=1), np.argmax(y_pred, axis=1))\n",
    "    np.set_printoptions(precision=2)\n",
    "    # Plot non-normalized confusion matrix\n",
    "    plt.figure()\n",
    "    plot_confusion_matrix(cnf_matrix, classes=class_names,\n",
    "                          title='Confusion matrix, without normalization')\n",
    "\n",
    "    # plt.show()\n",
    "    if os.path.isdir(\"graph/TrainingVisualizer\") == True:\n",
    "        pass\n",
    "    else:\n",
    "        os.makedirs(\"graph/TrainingVisualizer\")\n",
    "    plt.savefig('graph/TrainingVisualizer/TV_'+str(iteration))\n",
    "\n",
    "    export_model(model, model_path)\n",
    "    print(\"Model saved to disk\")\n",
    "\n",
    "    model_json = model.to_json()\n",
    "    with open(json_model_path, \"w\") as json_file:\n",
    "        json_file.write(json_model_path)\n",
    "    # serialize weights to HDF5\n",
    "    model.save_weights(model_weights_path)\n",
    "    model.save('20190419_class3_frame20.h5')\n",
    "    print(\"Saved model to disk\")\n",
    "    \n",
    "    docdes = open('description.txt', 'a')\n",
    "    docdes.write(str(iteration)+\"\\n\")\n",
    "    docdes.write(\"Data source: \"+dataInfo+\"\\n\")\n",
    "    docdes.write(\"Network: \"+NetworkInfo+\"\\n\")\n",
    "    docdes.write(\"epochs: \"+str(epo)+\"\\n\")\n",
    "    docdes.write(\"dropout: \"+str(dropout)+\"\\n\")\n",
    "    docdes.write(\"Validation percentage: \"+str(valpercent)+\"\\n\")\n",
    "    docdes.write('\\n')\n",
    "    docdes.close"
   ]
  },
  {
   "cell_type": "code",
   "execution_count": 3,
   "metadata": {},
   "outputs": [],
   "source": [
    "def TrainMulModel(epochs,dropout,networknum,Xvector,class_name,valpercent,timestep,dataInfo,iteration):\n",
    "    for i in epochs:\n",
    "        for j in dropout:\n",
    "            for k in range(networknum):\n",
    "                for m in valpercent:\n",
    "                    \n",
    "                #print(i,j,k,class_name,Xvector,valpercent,timestep,iteration,dataInfo)\n",
    "                    RunNetwork(i,j,k,class_name,Xvector,m,timestep,iteration,dataInfo)\n",
    "                    iteration=iteration+1"
   ]
  },
  {
   "cell_type": "code",
   "execution_count": 6,
   "metadata": {},
   "outputs": [],
   "source": [
    "def GetInput():\n",
    "    rawepochs=input(\"Please input the epochs:\")\n",
    "    epols = rawepochs.split(\",\")\n",
    "    epo =[ int(x) for x in epols ]\n",
    "    rawdropout=input(\"Please input the dropouts:\")\n",
    "    dropls = rawdropout.split(\",\")\n",
    "    drop =[ float(x) for x in dropls ]\n",
    "    networknum=eval(input(\"Please input the network number:\"))\n",
    "    X_vector_dim=eval(input(\"Please input the X_vector_dim:\"))\n",
    "    infofile=open('information.txt')\n",
    "    info=infofile.readlines()\n",
    "    dataInfo=info[1]\n",
    "    classinfo=info[0]\n",
    "    class_name=classinfo.split(\",\")\n",
    "    infofile.close()\n",
    "    rawval=input(\"Please input the percentage of validation:\")\n",
    "    valls = rawval.split(\",\")\n",
    "    valpercent =[ float(x) for x in valls ]\n",
    "    timestep=input(\"Please input the timestep:\")\n",
    "    num=eval(input(\"begin with: \"))\n",
    "    return epo,drop,networknum,X_vector_dim,class_name,valpercent,int(timestep),dataInfo,num"
   ]
  },
  {
   "cell_type": "code",
   "execution_count": 7,
   "metadata": {},
   "outputs": [
    {
     "name": "stdout",
     "output_type": "stream",
     "text": [
      "Please input the epochs:200\n",
      "Please input the dropouts:0.25\n",
      "Please input the network number:1\n",
      "Please input the X_vector_dim:18\n",
      "Please input the percentage of validation:0.25\n",
      "Please input the timestep:20\n",
      "begin with: 1\n"
     ]
    }
   ],
   "source": [
    "Epoch,DropOut,NetNum,XVector,ClassName,ValPercent,TimeStep,DataInformation,Number=GetInput()"
   ]
  },
  {
   "cell_type": "code",
   "execution_count": 8,
   "metadata": {
    "scrolled": true
   },
   "outputs": [
    {
     "name": "stdout",
     "output_type": "stream",
     "text": [
      "11917/11917 [==============================] - 6s 518us/step\n",
      "Confusion matrix, without normalization\n",
      "[[4677  219  138]\n",
      " [  35 2076  129]\n",
      " [ 119  491 4033]]\n",
      "Model saved to disk\n",
      "Saved model to disk\n"
     ]
    },
    {
     "data": {
      "image/png": "[encoded data removed]",
      "text/plain": [
       "<Figure size 432x288 with 1 Axes>"
      ]
     },
     "metadata": {
      "needs_background": "light"
     },
     "output_type": "display_data"
    }
   ],
   "source": [
    "TrainMulModel(Epoch,DropOut,NetNum,XVector,ClassName,ValPercent,TimeStep,DataInformation,Number)"
   ]
  },
  {
   "cell_type": "code",
   "execution_count": null,
   "metadata": {},
   "outputs": [],
   "source": []
  },
  {
   "cell_type": "code",
   "execution_count": null,
   "metadata": {},
   "outputs": [],
   "source": []
  },
  {
   "cell_type": "code",
   "execution_count": null,
   "metadata": {},
   "outputs": [],
   "source": []
  },
  {
   "cell_type": "code",
   "execution_count": null,
   "metadata": {},
   "outputs": [],
   "source": []
  },
  {
   "cell_type": "code",
   "execution_count": null,
   "metadata": {},
   "outputs": [],
   "source": [
    "print(Epoch)\n",
    "print(DropOut)\n",
    "print(NetNum)\n",
    "print(XVector)\n",
    "print(ClassName)\n",
    "print(ValPercent)\n",
    "print(TimeStep)\n",
    "print(DataInformation)\n",
    "print()"
   ]
  },
  {
   "cell_type": "code",
   "execution_count": null,
   "metadata": {},
   "outputs": [],
   "source": []
  },
  {
   "cell_type": "code",
   "execution_count": null,
   "metadata": {
    "scrolled": true
   },
   "outputs": [],
   "source": []
  },
  {
   "cell_type": "code",
   "execution_count": 11,
   "metadata": {
    "collapsed": true
   },
   "outputs": [
    {
     "name": "stdout",
     "output_type": "stream",
     "text": [
      "62/62 [==============================] - 0s 644us/step\n",
      "Confusion matrix, without normalization\n",
      "[[ 0 17  0  0]\n",
      " [ 0 13  0  0]\n",
      " [ 0 18  0  0]\n",
      " [ 0 14  0  0]]\n",
      "Model saved to disk\n",
      "Saved model to disk\n"
     ]
    },
    {
     "data": {
      "image/png": "[encoded data removed]",
      "text/plain": [
       "<Figure size 432x288 with 1 Axes>"
      ]
     },
     "metadata": {
      "needs_background": "light"
     },
     "output_type": "display_data"
    }
   ],
   "source": [
    "RunNetwork(10,0.1,3,['FRight', 'FWrong', 'SRight', 'SWrongHand'],36,0.2,15,3,\"all W, 0213, nowait\")"
   ]
  },
  {
   "cell_type": "code",
   "execution_count": 79,
   "metadata": {},
   "outputs": [],
   "source": [
    "info=open('class_name.txt')"
   ]
  },
  {
   "cell_type": "code",
   "execution_count": 80,
   "metadata": {},
   "outputs": [],
   "source": [
    "Ins=info.readlines()"
   ]
  },
  {
   "cell_type": "code",
   "execution_count": 81,
   "metadata": {},
   "outputs": [
    {
     "data": {
      "text/plain": [
       "['FRight,FWrong,SRight,SWrongHand\\n', 'all W, 0213, nowait']"
      ]
     },
     "execution_count": 81,
     "metadata": {},
     "output_type": "execute_result"
    }
   ],
   "source": [
    "Ins"
   ]
  },
  {
   "cell_type": "code",
   "execution_count": 5,
   "metadata": {},
   "outputs": [],
   "source": [
    "f=open('information.txt')"
   ]
  },
  {
   "cell_type": "code",
   "execution_count": 6,
   "metadata": {},
   "outputs": [],
   "source": [
    "line=f.readlines()"
   ]
  },
  {
   "cell_type": "code",
   "execution_count": 8,
   "metadata": {},
   "outputs": [
    {
     "data": {
      "text/plain": [
       "'all W, 0213, nowait'"
      ]
     },
     "execution_count": 8,
     "metadata": {},
     "output_type": "execute_result"
    }
   ],
   "source": [
    "line[1]"
   ]
  },
  {
   "cell_type": "code",
   "execution_count": 13,
   "metadata": {},
   "outputs": [
    {
     "data": {
      "text/plain": [
       "['FRight,FWrong,SRight,SWrongHand\\n', 'all W, 0213, nowait']"
      ]
     },
     "execution_count": 13,
     "metadata": {},
     "output_type": "execute_result"
    }
   ],
   "source": [
    "line"
   ]
  },
  {
   "cell_type": "code",
   "execution_count": null,
   "metadata": {},
   "outputs": [],
   "source": []
  },
  {
   "cell_type": "code",
   "execution_count": 75,
   "metadata": {},
   "outputs": [],
   "source": [
    "import ModelStorage"
   ]
  },
  {
   "cell_type": "code",
   "execution_count": 77,
   "metadata": {},
   "outputs": [],
   "source": [
    "model,des=ModelStorage.GetModel(0,0.1,36,'relu',(36,15),5)"
   ]
  },
  {
   "cell_type": "code",
   "execution_count": 79,
   "metadata": {},
   "outputs": [
    {
     "name": "stdout",
     "output_type": "stream",
     "text": [
      "_________________________________________________________________\n",
      "Layer (type)                 Output Shape              Param #   \n",
      "=================================================================\n",
      "time_distributed_11 (TimeDis (None, 36, 36)            576       \n",
      "_________________________________________________________________\n",
      "dropout_11 (Dropout)         (None, 36, 36)            0         \n",
      "_________________________________________________________________\n",
      "time_distributed_12 (TimeDis (None, 36, 72)            2664      \n",
      "_________________________________________________________________\n",
      "dropout_12 (Dropout)         (None, 36, 72)            0         \n",
      "_________________________________________________________________\n",
      "time_distributed_13 (TimeDis (None, 36, 36)            2628      \n",
      "_________________________________________________________________\n",
      "dropout_13 (Dropout)         (None, 36, 36)            0         \n",
      "_________________________________________________________________\n",
      "time_distributed_14 (TimeDis (None, 36, 18)            666       \n",
      "_________________________________________________________________\n",
      "dropout_14 (Dropout)         (None, 36, 18)            0         \n",
      "_________________________________________________________________\n",
      "time_distributed_15 (TimeDis (None, 36, 9)             171       \n",
      "_________________________________________________________________\n",
      "dropout_15 (Dropout)         (None, 36, 9)             0         \n",
      "_________________________________________________________________\n",
      "lstm_3 (LSTM)                (None, 9)                 684       \n",
      "_________________________________________________________________\n",
      "dense_18 (Dense)             (None, 5)                 50        \n",
      "=================================================================\n",
      "Total params: 7,439\n",
      "Trainable params: 7,439\n",
      "Non-trainable params: 0\n",
      "_________________________________________________________________\n"
     ]
    }
   ],
   "source": [
    "model.summary()"
   ]
  },
  {
   "cell_type": "code",
   "execution_count": null,
   "metadata": {},
   "outputs": [],
   "source": []
  }
 ],
 "metadata": {
  "kernelspec": {
   "display_name": "Python 3",
   "language": "python",
   "name": "python3"
  },
  "language_info": {
   "codemirror_mode": {
    "name": "ipython",
    "version": 3
   },
   "file_extension": ".py",
   "mimetype": "text/x-python",
   "name": "python",
   "nbconvert_exporter": "python",
   "pygments_lexer": "ipython3",
   "version": "3.6.8"
  }
 },
 "nbformat": 4,
 "nbformat_minor": 2
}
